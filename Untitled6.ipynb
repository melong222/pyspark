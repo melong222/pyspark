{
 "cells": [
  {
   "cell_type": "code",
   "execution_count": 1,
   "metadata": {},
   "outputs": [],
   "source": [
    "import findspark\n",
    "findspark.init()\n",
    "\n",
    "from pyspark.sql import SparkSession\n",
    "#sparksession 드라이버 프로세스 얻기\n",
    "spark = SparkSession.builder.appName(\"sample\").master(\"local[*]\").getOrCreate()\n",
    "#클러스터모드의 경우 master에 local[*] 대신 yarn이 들어간다.\n",
    "spark.conf.set(\"spark.sql.repl.eagerEval.enabled\",True)\n",
    "#jupyter환경에서만 가능한 config, .show()메소드를 사용할 필요없이 dataframe만 실행해도,정렬된 프린팅을 해준다."
   ]
  },
  {
   "cell_type": "code",
   "execution_count": 6,
   "metadata": {},
   "outputs": [],
   "source": [
    "data_file_path =  \"C:/Users/imfks/Downloads/stocks.txt\"\n",
    "df = spark.read.csv(data_file_path, header=True, inferSchema=True)"
   ]
  },
  {
   "cell_type": "code",
   "execution_count": 7,
   "metadata": {},
   "outputs": [
    {
     "data": {
      "text/plain": [
       "<bound method DataFrame.printSchema of +---+----------------+-----------+--------+-------+\n",
       "| id|            name|   category|quantity|  price|\n",
       "+---+----------------+-----------+--------+-------+\n",
       "|  1|          iPhone|Electronics|      10| 899.99|\n",
       "|  2|         Macbook|Electronics|       5|1299.99|\n",
       "|  3|            iPad|Electronics|      15| 499.99|\n",
       "|  4|      Samsung TV|Electronics|       8| 799.99|\n",
       "|  5|           LG TV|Electronics|      10| 699.99|\n",
       "|  6|      Nike Shoes|   Clothing|      30|  99.99|\n",
       "|  7|    Adidas Shoes|   Clothing|      25|  89.99|\n",
       "|  8| Sony Headphones|Electronics|      12| 149.99|\n",
       "|  9|Beats Headphones|Electronics|      20| 199.99|\n",
       "| 10|    Dining Table|  Furniture|      10| 249.99|\n",
       "| 11|      Study Desk|  Furniture|       8| 149.99|\n",
       "| 12|          Apples|       Food|     100|    0.5|\n",
       "| 13|         Bananas|       Food|     150|   0.25|\n",
       "| 14|         Oranges|       Food|     120|   0.75|\n",
       "| 15|  Chicken Breast|       Food|      50|   3.99|\n",
       "| 16|   Salmon Fillet|       Food|      30|   5.99|\n",
       "| 17|  Leather Jacket|   Clothing|      15| 199.99|\n",
       "| 18|     Winter Coat|   Clothing|      10| 149.99|\n",
       "| 19|        Yoga Mat|     Sports|      20|  19.99|\n",
       "| 20|    Dumbbell Set|     Sports|      15|  49.99|\n",
       "+---+----------------+-----------+--------+-------+\n",
       "only showing top 20 rows\n",
       ">"
      ]
     },
     "execution_count": 7,
     "metadata": {},
     "output_type": "execute_result"
    }
   ],
   "source": [
    "df.printSchema"
   ]
  },
  {
   "cell_type": "code",
   "execution_count": 10,
   "metadata": {},
   "outputs": [
    {
     "name": "stdout",
     "output_type": "stream",
     "text": [
      "+---+----------------+-------+\n",
      "| id|            name|  price|\n",
      "+---+----------------+-------+\n",
      "|  1|          iPhone| 899.99|\n",
      "|  2|         Macbook|1299.99|\n",
      "|  3|            iPad| 499.99|\n",
      "|  4|      Samsung TV| 799.99|\n",
      "|  5|           LG TV| 699.99|\n",
      "|  6|      Nike Shoes|  99.99|\n",
      "|  7|    Adidas Shoes|  89.99|\n",
      "|  8| Sony Headphones| 149.99|\n",
      "|  9|Beats Headphones| 199.99|\n",
      "| 10|    Dining Table| 249.99|\n",
      "| 11|      Study Desk| 149.99|\n",
      "| 12|          Apples|    0.5|\n",
      "| 13|         Bananas|   0.25|\n",
      "| 14|         Oranges|   0.75|\n",
      "| 15|  Chicken Breast|   3.99|\n",
      "| 16|   Salmon Fillet|   5.99|\n",
      "| 17|  Leather Jacket| 199.99|\n",
      "| 18|     Winter Coat| 149.99|\n",
      "| 19|        Yoga Mat|  19.99|\n",
      "| 20|    Dumbbell Set|  49.99|\n",
      "+---+----------------+-------+\n",
      "only showing top 20 rows\n",
      "\n"
     ]
    }
   ],
   "source": [
    "selected_columns = df.select(\"id\", \"name\", \"price\")\n",
    "selected_columns.show()"
   ]
  },
  {
   "cell_type": "code",
   "execution_count": 12,
   "metadata": {},
   "outputs": [
    {
     "name": "stdout",
     "output_type": "stream",
     "text": [
      "+---+----------------+-----------+--------+------+\n",
      "| id|            name|   category|quantity| price|\n",
      "+---+----------------+-----------+--------+------+\n",
      "|  3|            iPad|Electronics|      15|499.99|\n",
      "|  6|      Nike Shoes|   Clothing|      30| 99.99|\n",
      "|  7|    Adidas Shoes|   Clothing|      25| 89.99|\n",
      "|  8| Sony Headphones|Electronics|      12|149.99|\n",
      "|  9|Beats Headphones|Electronics|      20|199.99|\n",
      "| 12|          Apples|       Food|     100|   0.5|\n",
      "| 13|         Bananas|       Food|     150|  0.25|\n",
      "| 14|         Oranges|       Food|     120|  0.75|\n",
      "| 15|  Chicken Breast|       Food|      50|  3.99|\n",
      "| 16|   Salmon Fillet|       Food|      30|  5.99|\n",
      "| 17|  Leather Jacket|   Clothing|      15|199.99|\n",
      "| 19|        Yoga Mat|     Sports|      20| 19.99|\n",
      "| 20|    Dumbbell Set|     Sports|      15| 49.99|\n",
      "| 24|      Laptop Bag|Accessories|      25| 29.99|\n",
      "| 25|        Backpack|Accessories|      30| 24.99|\n",
      "| 28|           Jeans|   Clothing|      30| 59.99|\n",
      "| 29|         T-shirt|   Clothing|      50| 14.99|\n",
      "| 30|        Sneakers|   Clothing|      40| 79.99|\n",
      "+---+----------------+-----------+--------+------+\n",
      "\n"
     ]
    }
   ],
   "source": [
    "filtered_data = df.filter(df.quantity > 10)\n",
    "filtered_data.show()"
   ]
  },
  {
   "cell_type": "code",
   "execution_count": 14,
   "metadata": {},
   "outputs": [
    {
     "data": {
      "text/plain": [
       "<bound method DataFrame.show of +-----------+-------------+------------------+\n",
       "|   category|sum(quantity)|        avg(price)|\n",
       "+-----------+-------------+------------------+\n",
       "|       Food|          450|2.2960000000000003|\n",
       "|     Sports|           35|             34.99|\n",
       "|Electronics|           98| 586.6566666666665|\n",
       "|   Clothing|          200|  99.2757142857143|\n",
       "|  Furniture|           41|            141.99|\n",
       "|Accessories|           55|             27.49|\n",
       "+-----------+-------------+------------------+\n",
       ">"
      ]
     },
     "execution_count": 14,
     "metadata": {},
     "output_type": "execute_result"
    }
   ],
   "source": [
    "group_data = df.groupby(\"category\").agg({\"quantity\" : \"sum\", \"price\" : \"avg\"})\n",
    "group_data.show"
   ]
  },
  {
   "cell_type": "code",
   "execution_count": 16,
   "metadata": {},
   "outputs": [
    {
     "data": {
      "text/plain": [
       "<bound method DataFrame.show of +---+----------------+-----------+--------+-------+-----------+\n",
       "| id|            name|   category|quantity|  price|   category|\n",
       "+---+----------------+-----------+--------+-------+-----------+\n",
       "|  1|          iPhone|Electronics|      10| 899.99|Electronics|\n",
       "|  2|         Macbook|Electronics|       5|1299.99|Electronics|\n",
       "|  3|            iPad|Electronics|      15| 499.99|Electronics|\n",
       "|  4|      Samsung TV|Electronics|       8| 799.99|Electronics|\n",
       "|  5|           LG TV|Electronics|      10| 699.99|Electronics|\n",
       "|  6|      Nike Shoes|   Clothing|      30|  99.99|   Clothing|\n",
       "|  7|    Adidas Shoes|   Clothing|      25|  89.99|   Clothing|\n",
       "|  8| Sony Headphones|Electronics|      12| 149.99|Electronics|\n",
       "|  9|Beats Headphones|Electronics|      20| 199.99|Electronics|\n",
       "| 10|    Dining Table|  Furniture|      10| 249.99|  Furniture|\n",
       "+---+----------------+-----------+--------+-------+-----------+\n",
       ">"
      ]
     },
     "execution_count": 16,
     "metadata": {},
     "output_type": "execute_result"
    }
   ],
   "source": [
    "df2 = df.select(\"id\", \"category\").limit(10)\n",
    "joined_data = df.join(df2, \"id\", \"inner\")\n",
    "joined_data.show"
   ]
  },
  {
   "cell_type": "code",
   "execution_count": 23,
   "metadata": {},
   "outputs": [
    {
     "data": {
      "text/plain": [
       "<bound method DataFrame.show of +---+---------------+-----------+--------+------+\n",
       "| id|           name|   category|quantity| price|\n",
       "+---+---------------+-----------+--------+------+\n",
       "| 13|        Bananas|       Food|     150|  0.25|\n",
       "| 12|         Apples|       Food|     100|   0.5|\n",
       "| 14|        Oranges|       Food|     120|  0.75|\n",
       "| 15| Chicken Breast|       Food|      50|  3.99|\n",
       "| 16|  Salmon Fillet|       Food|      30|  5.99|\n",
       "| 29|        T-shirt|   Clothing|      50| 14.99|\n",
       "| 19|       Yoga Mat|     Sports|      20| 19.99|\n",
       "| 25|       Backpack|Accessories|      30| 24.99|\n",
       "| 24|     Laptop Bag|Accessories|      25| 29.99|\n",
       "| 20|   Dumbbell Set|     Sports|      15| 49.99|\n",
       "| 28|          Jeans|   Clothing|      30| 59.99|\n",
       "| 22|   Office Chair|  Furniture|       8| 79.99|\n",
       "| 30|       Sneakers|   Clothing|      40| 79.99|\n",
       "|  7|   Adidas Shoes|   Clothing|      25| 89.99|\n",
       "|  6|     Nike Shoes|   Clothing|      30| 99.99|\n",
       "| 23|      Bookshelf|  Furniture|      10| 99.99|\n",
       "| 21|   Coffee Table|  Furniture|       5|129.99|\n",
       "| 27|        Printer|Electronics|       8|129.99|\n",
       "|  8|Sony Headphones|Electronics|      12|149.99|\n",
       "| 11|     Study Desk|  Furniture|       8|149.99|\n",
       "+---+---------------+-----------+--------+------+\n",
       "only showing top 20 rows\n",
       ">"
      ]
     },
     "execution_count": 23,
     "metadata": {},
     "output_type": "execute_result"
    }
   ],
   "source": [
    "sorted_data = df.orderBy(\"price\")\n",
    "                         \n",
    "sorted_data.show"
   ]
  },
  {
   "cell_type": "code",
   "execution_count": 24,
   "metadata": {},
   "outputs": [
    {
     "data": {
      "text/plain": [
       "<bound method DataFrame.show of +---+----------------+-----------+--------+-------+\n",
       "| id|            name|   category|quantity|  price|\n",
       "+---+----------------+-----------+--------+-------+\n",
       "|  2|         Macbook|Electronics|       5|1299.99|\n",
       "|  1|          iPhone|Electronics|      10| 899.99|\n",
       "|  4|      Samsung TV|Electronics|       8| 799.99|\n",
       "|  5|           LG TV|Electronics|      10| 699.99|\n",
       "| 26|          Camera|Electronics|      10| 599.99|\n",
       "|  3|            iPad|Electronics|      15| 499.99|\n",
       "| 10|    Dining Table|  Furniture|      10| 249.99|\n",
       "| 17|  Leather Jacket|   Clothing|      15| 199.99|\n",
       "|  9|Beats Headphones|Electronics|      20| 199.99|\n",
       "| 18|     Winter Coat|   Clothing|      10| 149.99|\n",
       "| 11|      Study Desk|  Furniture|       8| 149.99|\n",
       "|  8| Sony Headphones|Electronics|      12| 149.99|\n",
       "| 27|         Printer|Electronics|       8| 129.99|\n",
       "| 21|    Coffee Table|  Furniture|       5| 129.99|\n",
       "| 23|       Bookshelf|  Furniture|      10|  99.99|\n",
       "|  6|      Nike Shoes|   Clothing|      30|  99.99|\n",
       "|  7|    Adidas Shoes|   Clothing|      25|  89.99|\n",
       "| 30|        Sneakers|   Clothing|      40|  79.99|\n",
       "| 22|    Office Chair|  Furniture|       8|  79.99|\n",
       "| 28|           Jeans|   Clothing|      30|  59.99|\n",
       "+---+----------------+-----------+--------+-------+\n",
       "only showing top 20 rows\n",
       ">"
      ]
     },
     "execution_count": 24,
     "metadata": {},
     "output_type": "execute_result"
    }
   ],
   "source": [
    "from pyspark.sql.functions import col, desc\n",
    "\n",
    "sorted_data = df.orderBy(col(\"price\").desc(), col(\"id\").desc())\n",
    "sorted_data.show"
   ]
  }
 ],
 "metadata": {
  "kernelspec": {
   "display_name": "Python 3",
   "language": "python",
   "name": "python3"
  },
  "language_info": {
   "codemirror_mode": {
    "name": "ipython",
    "version": 3
   },
   "file_extension": ".py",
   "mimetype": "text/x-python",
   "name": "python",
   "nbconvert_exporter": "python",
   "pygments_lexer": "ipython3",
   "version": "3.6.5"
  }
 },
 "nbformat": 4,
 "nbformat_minor": 2
}
