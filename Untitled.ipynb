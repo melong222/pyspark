{
 "cells": [
  {
   "cell_type": "code",
   "execution_count": 13,
   "id": "4fc00cd5-ab60-485b-b0b9-06ba45d37d85",
   "metadata": {},
   "outputs": [
    {
     "name": "stdout",
     "output_type": "stream",
     "text": [
      "1\n",
      "[2, 3, 4, 5]\n"
     ]
    }
   ],
   "source": [
    "my_list = [1,2,3,4,5]\n",
    "print(my_list[0])\n",
    "\n",
    "my_list.remove(1)\n",
    "print(my_list)"
   ]
  },
  {
   "cell_type": "code",
   "execution_count": 8,
   "id": "9b42e271-7e73-47c3-9d83-30bf7d318a91",
   "metadata": {},
   "outputs": [
    {
     "name": "stdout",
     "output_type": "stream",
     "text": [
      "python\n",
      "('a', 'b', 'c', 1, 2, 3)\n"
     ]
    }
   ],
   "source": [
    "tup=('hello','python')\n",
    "print(tup[1])\n",
    "\n",
    "tup1=('a','b','c',1,2,3)\n",
    "print(tup1)"
   ]
  },
  {
   "cell_type": "code",
   "execution_count": 16,
   "id": "8795a823-62b2-4e21-9e86-a63059f234e9",
   "metadata": {},
   "outputs": [
    {
     "name": "stdout",
     "output_type": "stream",
     "text": [
      "28\n"
     ]
    },
    {
     "data": {
      "text/plain": [
       "3"
      ]
     },
     "execution_count": 16,
     "metadata": {},
     "output_type": "execute_result"
    }
   ],
   "source": [
    "mylist=[1,7,5,6,4,5,2]\n",
    "mylist.remove(2)\n",
    "print(sum(mylist))\n",
    "\n",
    "List_Example = [2,3,7,9,5]\n",
    "List_Example.pop(1)"
   ]
  },
  {
   "cell_type": "code",
   "execution_count": 12,
   "id": "1a50314a-482b-46ed-90d0-a21e9a3c1a3c",
   "metadata": {},
   "outputs": [
    {
     "name": "stdout",
     "output_type": "stream",
     "text": [
      "{1, 20, 5, 40, 60}\n",
      "{1, 20, 5, 40, 10, 60}\n",
      "{1, 4, 5, 6, 8, 10, 20, 40, 60}\n"
     ]
    }
   ],
   "source": [
    "set = {1,5,20,40,60}\n",
    "print(set)\n",
    "\n",
    "set.add(10)\n",
    "print(set)\n",
    "\n",
    "set.update([4,6,8,10])\n",
    "print(set)"
   ]
  },
  {
   "cell_type": "code",
   "execution_count": 22,
   "id": "5a48e38a-81d3-4c74-876c-d961fad2f63a",
   "metadata": {},
   "outputs": [
    {
     "name": "stdout",
     "output_type": "stream",
     "text": [
      "200  is greater than  90\n"
     ]
    }
   ],
   "source": [
    "x=90\n",
    "y=200\n",
    "if (y>x):\n",
    "    print(y, \" is greater than \", x )"
   ]
  },
  {
   "cell_type": "code",
   "execution_count": 30,
   "id": "b3b7d85d-a7c6-45d9-b9ce-d9ce06e2b730",
   "metadata": {},
   "outputs": [
    {
     "name": "stdout",
     "output_type": "stream",
     "text": [
      "1\n",
      "2\n",
      "3\n",
      "4\n",
      "5\n",
      "6\n",
      "7\n",
      "8\n",
      "9\n",
      "10\n",
      "11\n",
      "12\n"
     ]
    }
   ],
   "source": [
    "set = {1,2,3,4,5,6,7,8,9,10,11,12}\n",
    "\n",
    "for x in set:\n",
    "    print (x)"
   ]
  },
  {
   "cell_type": "code",
   "execution_count": 35,
   "id": "58253ba6-9153-4a7e-8795-f5f5e8da4a18",
   "metadata": {},
   "outputs": [
    {
     "name": "stdout",
     "output_type": "stream",
     "text": [
      "Welcome : hi\n"
     ]
    }
   ],
   "source": [
    "def func(str):\n",
    "    print (\"Welcome :\", str)\n",
    "\n",
    "func('hi')"
   ]
  },
  {
   "cell_type": "code",
   "execution_count": null,
   "id": "a1bb545f-2d5e-4625-9f60-d463d1c080f4",
   "metadata": {},
   "outputs": [],
   "source": []
  }
 ],
 "metadata": {
  "kernelspec": {
   "display_name": "Python 3 (ipykernel)",
   "language": "python",
   "name": "python3"
  },
  "language_info": {
   "codemirror_mode": {
    "name": "ipython",
    "version": 3
   },
   "file_extension": ".py",
   "mimetype": "text/x-python",
   "name": "python",
   "nbconvert_exporter": "python",
   "pygments_lexer": "ipython3",
   "version": "3.12.4"
  }
 },
 "nbformat": 4,
 "nbformat_minor": 5
}
