{
 "cells": [
  {
   "cell_type": "code",
   "execution_count": 1,
   "metadata": {},
   "outputs": [],
   "source": [
    "import findspark\n",
    "findspark.init()\n",
    "\n",
    "from pyspark.sql import SparkSession\n",
    "#sparksession 드라이버 프로세스 얻기\n",
    "spark = SparkSession.builder.appName(\"sample\").master(\"local[*]\").getOrCreate()\n",
    "#클러스터모드의 경우 master에 local[*] 대신 yarn이 들어간다.\n",
    "spark.conf.set(\"spark.sql.repl.eagerEval.enabled\",True)\n",
    "#jupyter환경에서만 가능한 config, .show()메소드를 사용할 필요없이 dataframe만 실행해도,정렬된 프린팅을 해준다."
   ]
  },
  {
   "cell_type": "code",
   "execution_count": 2,
   "metadata": {},
   "outputs": [],
   "source": [
    "csv_file_path = \"C:/Users/imfks/Downloads/products.csv\"\n",
    "df = spark.read.csv(csv_file_path, header=True) "
   ]
  },
  {
   "cell_type": "code",
   "execution_count": 3,
   "metadata": {},
   "outputs": [
    {
     "data": {
      "text/plain": [
       "<bound method DataFrame.printSchema of +---+--------------------+---------------+--------+------+\n",
       "| id|                name|       category|quantity| price|\n",
       "+---+--------------------+---------------+--------+------+\n",
       "|  1|           iPhone 12|    Electronics|      10|899.99|\n",
       "|  2|     Nike Air Max 90|       Clothing|      25|119.99|\n",
       "|  3|KitchenAid Stand ...|Home Appliances|       5|299.99|\n",
       "|  4|    The Great Gatsby|          Books|      50| 12.99|\n",
       "|  5|L'Oreal Paris Mas...|         Beauty|     100|  9.99|\n",
       "|  6|            Yoga Mat|         Sports|      30| 29.99|\n",
       "|  7| Samsung 4K Smart TV|    Electronics|       8|799.99|\n",
       "|  8|        Levi's Jeans|       Clothing|      15| 49.99|\n",
       "|  9|Dyson Vacuum Cleaner|Home Appliances|       3|399.99|\n",
       "| 10| Harry Potter Series|          Books|      20| 15.99|\n",
       "| 11|        MAC Lipstick|         Beauty|      75| 16.99|\n",
       "| 12|Adidas Running Shoes|         Sports|      22| 59.99|\n",
       "| 13|       PlayStation 5|    Electronics|      12|499.99|\n",
       "| 14|   Hooded Sweatshirt|       Clothing|      10| 34.99|\n",
       "| 15|        Coffee Maker|Home Appliances|       7| 89.99|\n",
       "| 16|To Kill a Mocking...|          Books|      15|  9.99|\n",
       "| 17|        Skincare Set|         Beauty|      50| 49.99|\n",
       "| 18|           Yoga Ball|         Sports|      18| 19.99|\n",
       "| 19|Sony Noise-Cancel...|    Electronics|       6|299.99|\n",
       "| 20|        Puma T-shirt|       Clothing|      40| 19.99|\n",
       "+---+--------------------+---------------+--------+------+\n",
       ">"
      ]
     },
     "execution_count": 3,
     "metadata": {},
     "output_type": "execute_result"
    }
   ],
   "source": [
    "df.printSchema"
   ]
  },
  {
   "cell_type": "code",
   "execution_count": 4,
   "metadata": {},
   "outputs": [],
   "source": [
    "# import necessary types\n",
    "from pyspark.sql.types import StructType, StructField, StringType, IntegerType, DoubleType"
   ]
  },
  {
   "cell_type": "code",
   "execution_count": 5,
   "metadata": {},
   "outputs": [],
   "source": [
    "# Define the schema\n",
    "schema = StructType([\n",
    "    StructField(name=\"id\", dataType=IntegerType(), nullable=True),\n",
    "    StructField(name=\"name\", dataType=StringType(), nullable=True),\n",
    "    StructField(name=\"category\", dataType=StringType(), nullable=True),\n",
    "    StructField(name=\"quantity\", dataType=IntegerType(), nullable=True),\n",
    "    StructField(name=\"price\", dataType=DoubleType(), nullable=True)\n",
    "])"
   ]
  },
  {
   "cell_type": "code",
   "execution_count": 7,
   "metadata": {},
   "outputs": [],
   "source": [
    "csv_file_path = \"C:/Users/imfks/Downloads/products.csv\"\n",
    "df = spark.read.csv(csv_file_path, header=True, schema=schema) "
   ]
  },
  {
   "cell_type": "code",
   "execution_count": 8,
   "metadata": {},
   "outputs": [
    {
     "data": {
      "text/plain": [
       "<bound method DataFrame.printSchema of +---+--------------------+---------------+--------+------+\n",
       "| id|                name|       category|quantity| price|\n",
       "+---+--------------------+---------------+--------+------+\n",
       "|  1|           iPhone 12|    Electronics|      10|899.99|\n",
       "|  2|     Nike Air Max 90|       Clothing|      25|119.99|\n",
       "|  3|KitchenAid Stand ...|Home Appliances|       5|299.99|\n",
       "|  4|    The Great Gatsby|          Books|      50| 12.99|\n",
       "|  5|L'Oreal Paris Mas...|         Beauty|     100|  9.99|\n",
       "|  6|            Yoga Mat|         Sports|      30| 29.99|\n",
       "|  7| Samsung 4K Smart TV|    Electronics|       8|799.99|\n",
       "|  8|        Levi's Jeans|       Clothing|      15| 49.99|\n",
       "|  9|Dyson Vacuum Cleaner|Home Appliances|       3|399.99|\n",
       "| 10| Harry Potter Series|          Books|      20| 15.99|\n",
       "| 11|        MAC Lipstick|         Beauty|      75| 16.99|\n",
       "| 12|Adidas Running Shoes|         Sports|      22| 59.99|\n",
       "| 13|       PlayStation 5|    Electronics|      12|499.99|\n",
       "| 14|   Hooded Sweatshirt|       Clothing|      10| 34.99|\n",
       "| 15|        Coffee Maker|Home Appliances|       7| 89.99|\n",
       "| 16|To Kill a Mocking...|          Books|      15|  9.99|\n",
       "| 17|        Skincare Set|         Beauty|      50| 49.99|\n",
       "| 18|           Yoga Ball|         Sports|      18| 19.99|\n",
       "| 19|Sony Noise-Cancel...|    Electronics|       6|299.99|\n",
       "| 20|        Puma T-shirt|       Clothing|      40| 19.99|\n",
       "+---+--------------------+---------------+--------+------+\n",
       ">"
      ]
     },
     "execution_count": 8,
     "metadata": {},
     "output_type": "execute_result"
    }
   ],
   "source": [
    "df.printSchema"
   ]
  },
  {
   "cell_type": "code",
   "execution_count": 10,
   "metadata": {},
   "outputs": [],
   "source": [
    "json_file_path = \"C:/Users/imfks/Downloads/products_singleline.json\"\n",
    "df = spark.read.json(json_file_path)"
   ]
  },
  {
   "cell_type": "code",
   "execution_count": 12,
   "metadata": {},
   "outputs": [
    {
     "name": "stdout",
     "output_type": "stream",
     "text": [
      "+---------------+---+--------------------+------+--------+\n",
      "|       category| id|                name| price|quantity|\n",
      "+---------------+---+--------------------+------+--------+\n",
      "|    Electronics|  1|           iPhone 12|899.99|      10|\n",
      "|       Clothing|  2|     Nike Air Max 90|119.99|      25|\n",
      "|Home Appliances|  3|KitchenAid Stand ...|299.99|       5|\n",
      "|          Books|  4|    The Great Gatsby| 12.99|      50|\n",
      "|         Beauty|  5|L'Oreal Paris Mas...|  9.99|     100|\n",
      "+---------------+---+--------------------+------+--------+\n",
      "only showing top 5 rows\n",
      "\n"
     ]
    }
   ],
   "source": [
    "df.printSchema\n",
    "df.show(5)"
   ]
  },
  {
   "cell_type": "code",
   "execution_count": 13,
   "metadata": {},
   "outputs": [
    {
     "data": {
      "text/plain": [
       "<bound method DataFrame.printSchema of +---------------+---+--------------------+------+--------+\n",
       "|       category| id|                name| price|quantity|\n",
       "+---------------+---+--------------------+------+--------+\n",
       "|    Electronics|  1|           iPhone 12|899.99|      10|\n",
       "|       Clothing|  2|     Nike Air Max 90|119.99|      25|\n",
       "|Home Appliances|  3|KitchenAid Stand ...|299.99|       5|\n",
       "|          Books|  4|    The Great Gatsby| 12.99|      50|\n",
       "|         Beauty|  5|L'Oreal Paris Mas...|  9.99|     100|\n",
       "|         Sports|  6|            Yoga Mat| 29.99|      30|\n",
       "|    Electronics|  7| Samsung 4K Smart TV|799.99|       8|\n",
       "|       Clothing|  8|        Levi's Jeans| 49.99|      15|\n",
       "|Home Appliances|  9|Dyson Vacuum Cleaner|399.99|       3|\n",
       "|          Books| 10| Harry Potter Series| 15.99|      20|\n",
       "|         Beauty| 11|        MAC Lipstick| 16.99|      75|\n",
       "|         Sports| 12|Adidas Running Shoes| 59.99|      22|\n",
       "|    Electronics| 13|       PlayStation 5|499.99|      12|\n",
       "|       Clothing| 14|   Hooded Sweatshirt| 34.99|      10|\n",
       "|Home Appliances| 15|        Coffee Maker| 89.99|       7|\n",
       "|          Books| 16|To Kill a Mocking...|  9.99|      15|\n",
       "|         Beauty| 17|        Skincare Set| 49.99|      50|\n",
       "|         Sports| 18|           Yoga Ball| 19.99|      18|\n",
       "|    Electronics| 19|Sony Noise-Cancel...|299.99|       6|\n",
       "|       Clothing| 20|        Puma T-shirt| 19.99|      40|\n",
       "+---------------+---+--------------------+------+--------+\n",
       ">"
      ]
     },
     "execution_count": 13,
     "metadata": {},
     "output_type": "execute_result"
    }
   ],
   "source": [
    "json_file_path = \"C:/Users/imfks/Downloads/products_multiline.json\"\n",
    "df = spark.read.json(json_file_path, multiLine=True)\n",
    "\n",
    "df.printSchema"
   ]
  },
  {
   "cell_type": "code",
   "execution_count": null,
   "metadata": {},
   "outputs": [],
   "source": []
  }
 ],
 "metadata": {
  "kernelspec": {
   "display_name": "Python 3",
   "language": "python",
   "name": "python3"
  },
  "language_info": {
   "codemirror_mode": {
    "name": "ipython",
    "version": 3
   },
   "file_extension": ".py",
   "mimetype": "text/x-python",
   "name": "python",
   "nbconvert_exporter": "python",
   "pygments_lexer": "ipython3",
   "version": "3.6.5"
  }
 },
 "nbformat": 4,
 "nbformat_minor": 2
}
